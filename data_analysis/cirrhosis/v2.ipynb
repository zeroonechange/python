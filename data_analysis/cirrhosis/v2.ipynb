{
 "cells": [
  {
   "cell_type": "code",
   "execution_count": 3,
   "metadata": {
    "scrolled": true
   },
   "outputs": [
    {
     "name": "stderr",
     "output_type": "stream",
     "text": [
      "/Users/jack/anaconda/lib/python3.6/site-packages/pandas/core/frame.py:2844: SettingWithCopyWarning: \n",
      "A value is trying to be set on a copy of a slice from a DataFrame\n",
      "\n",
      "See the caveats in the documentation: http://pandas.pydata.org/pandas-docs/stable/indexing.html#indexing-view-versus-copy\n",
      "  **kwargs)\n"
     ]
    },
    {
     "data": {
      "text/html": [
       "<div>\n",
       "<style>\n",
       "    .dataframe thead tr:only-child th {\n",
       "        text-align: right;\n",
       "    }\n",
       "\n",
       "    .dataframe thead th {\n",
       "        text-align: left;\n",
       "    }\n",
       "\n",
       "    .dataframe tbody tr th {\n",
       "        vertical-align: top;\n",
       "    }\n",
       "</style>\n",
       "<table border=\"1\" class=\"dataframe\">\n",
       "  <thead>\n",
       "    <tr style=\"text-align: right;\">\n",
       "      <th></th>\n",
       "      <th>result</th>\n",
       "      <th>APRI</th>\n",
       "      <th>FIB4</th>\n",
       "      <th>AP</th>\n",
       "      <th>CDS</th>\n",
       "    </tr>\n",
       "  </thead>\n",
       "  <tbody>\n",
       "    <tr>\n",
       "      <th>97</th>\n",
       "      <td>1</td>\n",
       "      <td>0.006250</td>\n",
       "      <td>124.800000</td>\n",
       "      <td>6</td>\n",
       "      <td>6</td>\n",
       "    </tr>\n",
       "    <tr>\n",
       "      <th>98</th>\n",
       "      <td>1</td>\n",
       "      <td>0.005288</td>\n",
       "      <td>136.442308</td>\n",
       "      <td>2</td>\n",
       "      <td>5</td>\n",
       "    </tr>\n",
       "    <tr>\n",
       "      <th>99</th>\n",
       "      <td>3</td>\n",
       "      <td>0.008251</td>\n",
       "      <td>227.342697</td>\n",
       "      <td>4</td>\n",
       "      <td>5</td>\n",
       "    </tr>\n",
       "    <tr>\n",
       "      <th>100</th>\n",
       "      <td>1</td>\n",
       "      <td>0.003869</td>\n",
       "      <td>100.982143</td>\n",
       "      <td>5</td>\n",
       "      <td>5</td>\n",
       "    </tr>\n",
       "    <tr>\n",
       "      <th>101</th>\n",
       "      <td>1</td>\n",
       "      <td>0.000000</td>\n",
       "      <td>0.000000</td>\n",
       "      <td>3</td>\n",
       "      <td>3</td>\n",
       "    </tr>\n",
       "  </tbody>\n",
       "</table>\n",
       "</div>"
      ],
      "text/plain": [
       "     result      APRI        FIB4  AP  CDS\n",
       "97        1  0.006250  124.800000   6    6\n",
       "98        1  0.005288  136.442308   2    5\n",
       "99        3  0.008251  227.342697   4    5\n",
       "100       1  0.003869  100.982143   5    5\n",
       "101       1  0.000000    0.000000   3    3"
      ]
     },
     "execution_count": 3,
     "metadata": {},
     "output_type": "execute_result"
    }
   ],
   "source": [
    "import numpy as np\n",
    "import pandas as pd\n",
    "\n",
    "data = pd.read_excel('2017_113_people.xlsx')\n",
    "cleandata = data.iloc[:, [9,21,22,23,24]]\n",
    "mapping = {'AP指数' : 'AP',  'CDS评分' : 'CDS',  '纤维化分级' : 'result' }\n",
    "cleandata.rename(columns=mapping, inplace=True)\n",
    "cleandata.tail()"
   ]
  },
  {
   "cell_type": "code",
   "execution_count": 12,
   "metadata": {},
   "outputs": [
    {
     "data": {
      "text/html": [
       "<div>\n",
       "<style>\n",
       "    .dataframe thead tr:only-child th {\n",
       "        text-align: right;\n",
       "    }\n",
       "\n",
       "    .dataframe thead th {\n",
       "        text-align: left;\n",
       "    }\n",
       "\n",
       "    .dataframe tbody tr th {\n",
       "        vertical-align: top;\n",
       "    }\n",
       "</style>\n",
       "<table border=\"1\" class=\"dataframe\">\n",
       "  <thead>\n",
       "    <tr style=\"text-align: right;\">\n",
       "      <th></th>\n",
       "      <th>APRI</th>\n",
       "      <th>FIB4</th>\n",
       "      <th>AP</th>\n",
       "      <th>CDS</th>\n",
       "    </tr>\n",
       "    <tr>\n",
       "      <th>result</th>\n",
       "      <th></th>\n",
       "      <th></th>\n",
       "      <th></th>\n",
       "      <th></th>\n",
       "    </tr>\n",
       "  </thead>\n",
       "  <tbody>\n",
       "    <tr>\n",
       "      <th>0</th>\n",
       "      <td>0.007712</td>\n",
       "      <td>761.266342</td>\n",
       "      <td>4.428571</td>\n",
       "      <td>4.857143</td>\n",
       "    </tr>\n",
       "    <tr>\n",
       "      <th>1</th>\n",
       "      <td>0.004929</td>\n",
       "      <td>273.356234</td>\n",
       "      <td>3.948276</td>\n",
       "      <td>5.034483</td>\n",
       "    </tr>\n",
       "    <tr>\n",
       "      <th>2</th>\n",
       "      <td>0.019964</td>\n",
       "      <td>2907.313099</td>\n",
       "      <td>5.176471</td>\n",
       "      <td>5.352941</td>\n",
       "    </tr>\n",
       "    <tr>\n",
       "      <th>3</th>\n",
       "      <td>0.013577</td>\n",
       "      <td>469.660899</td>\n",
       "      <td>6.400000</td>\n",
       "      <td>5.900000</td>\n",
       "    </tr>\n",
       "    <tr>\n",
       "      <th>4</th>\n",
       "      <td>0.068118</td>\n",
       "      <td>9252.502287</td>\n",
       "      <td>5.200000</td>\n",
       "      <td>5.500000</td>\n",
       "    </tr>\n",
       "  </tbody>\n",
       "</table>\n",
       "</div>"
      ],
      "text/plain": [
       "            APRI         FIB4        AP       CDS\n",
       "result                                           \n",
       "0       0.007712   761.266342  4.428571  4.857143\n",
       "1       0.004929   273.356234  3.948276  5.034483\n",
       "2       0.019964  2907.313099  5.176471  5.352941\n",
       "3       0.013577   469.660899  6.400000  5.900000\n",
       "4       0.068118  9252.502287  5.200000  5.500000"
      ]
     },
     "execution_count": 12,
     "metadata": {},
     "output_type": "execute_result"
    }
   ],
   "source": [
    "cleandata.groupby('result').mean()"
   ]
  },
  {
   "cell_type": "code",
   "execution_count": 23,
   "metadata": {},
   "outputs": [
    {
     "name": "stdout",
     "output_type": "stream",
     "text": [
      "0 7\n",
      "1 58\n",
      "2 17\n",
      "3 10\n",
      "4 10\n"
     ]
    }
   ],
   "source": [
    "%matplotlib notebook\n",
    "for name, group in cleandata.groupby('result'):\n",
    "    print(name , len(group))"
   ]
  },
  {
   "cell_type": "code",
   "execution_count": null,
   "metadata": {
    "collapsed": true
   },
   "outputs": [],
   "source": [
    "# groupby后求正态分布的范围\n",
    "\n",
    "# 定义一个求t分布的置信区间函数\n",
    "def ci_t (data,confidence=0.95):\n",
    "    \n",
    "    # 先求一下 bins ,以便画图用得上.\n",
    "    IQR = data.quantile(0.75) - data.quantile(0.25)\n",
    "    bin_size = 2 * IQR / len(data)**(1.0/3)\n",
    "    \n",
    "    \n",
    "    # 画个源数据图表.以便对源数据的一个直观了解\n",
    "    plt.rcParams['font.sans-serif']=['SimHei']\n",
    "    n = plt.hist(data,bins = round(bin_size),rwidth=0.9)\n",
    "    plt.vlines(data.mean(), 0,max(n[0])+1,colors = \"r\", linestyles = \"dashed\",label=\"平均值%.2f\" % np.mean(data))\n",
    "    plt.title('源数据'+str(len(data))+'个样本分布 直方图')\n",
    "    plt.ylabel('频数')\n",
    "    plt.legend()\n",
    "    plt.show()\n",
    "    \n",
    "    # 真正开始计算\n",
    "    sample_mean = np.mean(data)\n",
    "    sample_std = np.std(data)    \n",
    "    sample_size = len(data)\n",
    "    alpha = 1 - 0.95\n",
    "    t_score = scipy.stats.t.isf(alpha / 2, df = (sample_size-1) )\n",
    "\n",
    "    ME = t_score * sample_std / np.sqrt(sample_size)\n",
    "    lower_limit = sample_mean - ME\n",
    "    upper_limit = sample_mean + ME\n",
    "\n",
    "    print( str(confidence*100)+ '%% Confidence Interval: ( %.2f, %.2f)' % (lower_limit, upper_limit))\n",
    "    return lower_limit, upper_limit\n",
    "\n"
   ]
  }
 ],
 "metadata": {
  "kernelspec": {
   "display_name": "Python 3",
   "language": "python",
   "name": "python3"
  },
  "language_info": {
   "codemirror_mode": {
    "name": "ipython",
    "version": 3
   },
   "file_extension": ".py",
   "mimetype": "text/x-python",
   "name": "python",
   "nbconvert_exporter": "python",
   "pygments_lexer": "ipython3",
   "version": "3.6.1"
  }
 },
 "nbformat": 4,
 "nbformat_minor": 2
}
