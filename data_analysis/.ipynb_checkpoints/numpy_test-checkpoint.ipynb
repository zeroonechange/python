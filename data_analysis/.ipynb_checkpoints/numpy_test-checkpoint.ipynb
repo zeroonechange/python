{
 "cells": [
  {
   "cell_type": "code",
   "execution_count": 2,
   "metadata": {},
   "outputs": [
    {
     "name": "stdout",
     "output_type": "stream",
     "text": [
      "CPU times: user 18.7 ms, sys: 14.5 ms, total: 33.2 ms\n",
      "Wall time: 34.1 ms\n",
      "CPU times: user 638 ms, sys: 160 ms, total: 798 ms\n",
      "Wall time: 803 ms\n"
     ]
    }
   ],
   "source": [
    "import numpy as np\n",
    "my_arr = np.arange(1000000)\n",
    "my_list = list(range(1000000))\n",
    "%time for _ in range(10): my_arr = my_arr * 2\n",
    "%time for _ in range(10): my_list2 = [x*2 for x in my_list]"
   ]
  },
  {
   "cell_type": "code",
   "execution_count": 20,
   "metadata": {},
   "outputs": [
    {
     "name": "stdout",
     "output_type": "stream",
     "text": [
      "[[ 0.06583303  2.66249928 -2.10880074]\n",
      " [-0.54419268  0.42552984 -0.99318141]]\n",
      "----------0----------\n",
      "[[  0.65833027  26.62499281 -21.08800741]\n",
      " [ -5.44192681   4.2552984   -9.93181413]]\n",
      "----------1----------\n",
      "[[  1.31666054  53.24998561 -42.17601483]\n",
      " [-10.88385362   8.51059679 -19.86362826]]\n"
     ]
    }
   ],
   "source": [
    "data = np.random.randn(2, 3)\n",
    "print(data)\n",
    "print('----------0----------')\n",
    "data = data * 10\n",
    "print(data)\n",
    "print('----------1----------')\n",
    "data = data + data\n",
    "print(data)"
   ]
  },
  {
   "cell_type": "code",
   "execution_count": 18,
   "metadata": {},
   "outputs": [
    {
     "data": {
      "text/plain": [
       "(2, 3)"
      ]
     },
     "execution_count": 18,
     "metadata": {},
     "output_type": "execute_result"
    }
   ],
   "source": [
    "data.shape  // 行列 数"
   ]
  },
  {
   "cell_type": "code",
   "execution_count": 21,
   "metadata": {},
   "outputs": [
    {
     "data": {
      "text/plain": [
       "dtype('float64')"
      ]
     },
     "execution_count": 21,
     "metadata": {},
     "output_type": "execute_result"
    }
   ],
   "source": [
    "data.dtype  // 数据类型"
   ]
  },
  {
   "cell_type": "code",
   "execution_count": 22,
   "metadata": {},
   "outputs": [
    {
     "data": {
      "text/plain": [
       "2"
      ]
     },
     "execution_count": 22,
     "metadata": {},
     "output_type": "execute_result"
    }
   ],
   "source": [
    "data.ndim  //行数"
   ]
  },
  {
   "cell_type": "code",
   "execution_count": 26,
   "metadata": {},
   "outputs": [
    {
     "name": "stdout",
     "output_type": "stream",
     "text": [
      "[ 2.   3.   6.5  7.   9. ]\n",
      "[[1 2 3 4]\n",
      " [5 6 7 8]]\n"
     ]
    }
   ],
   "source": [
    "data1 = [2, 3, 6.5, 7, 9]\n",
    "arr1 = np.array(data1)\n",
    "print(arr1)\n",
    "data2 = [[1, 2, 3, 4], [5, 6, 7, 8]]\n",
    "arr2 = np.array(data2)\n",
    "print(arr2)"
   ]
  },
  {
   "cell_type": "code",
   "execution_count": 36,
   "metadata": {},
   "outputs": [
    {
     "name": "stdout",
     "output_type": "stream",
     "text": [
      "[[ 0.  0.  0.  0.]\n",
      " [ 0.  0.  0.  0.]]\n",
      "[[ 1.  1.  1.  1.]\n",
      " [ 1.  1.  1.  1.]]\n",
      "[[ 0.  0.  0.]\n",
      " [ 0.  0.  0.]]\n"
     ]
    }
   ],
   "source": [
    "arr0=np.zeros((2,4))\n",
    "print(arr0)\n",
    "arr1=np.ones((2,4))\n",
    "print(arr1)\n",
    "arrempty=np.empty((2,3))\n",
    "print(arrempty)"
   ]
  },
  {
   "cell_type": "code",
   "execution_count": 37,
   "metadata": {},
   "outputs": [
    {
     "data": {
      "text/plain": [
       "array([0, 1, 2, 3, 4, 5, 6, 7, 8, 9])"
      ]
     },
     "execution_count": 37,
     "metadata": {},
     "output_type": "execute_result"
    }
   ],
   "source": [
    "np.arange(10)    //用python内置函数返回"
   ]
  },
  {
   "cell_type": "code",
   "execution_count": 38,
   "metadata": {},
   "outputs": [
    {
     "name": "stdout",
     "output_type": "stream",
     "text": [
      "float64\n",
      "int32\n"
     ]
    }
   ],
   "source": [
    "arr1=np.array([1,2,3], dtype=np.float64)\n",
    "arr2=np.array([1,2,3], dtype=np.int32)\n",
    "print(arr1.dtype)\n",
    "print(arr2.dtype)"
   ]
  },
  {
   "cell_type": "code",
   "execution_count": 39,
   "metadata": {},
   "outputs": [
    {
     "data": {
      "text/plain": [
       "array([ 3, -1, -2,  0, 12, 10], dtype=int32)"
      ]
     },
     "execution_count": 39,
     "metadata": {},
     "output_type": "execute_result"
    }
   ],
   "source": [
    "arr = np.array([3.7, -1.2, -2.6, 0.5, 12.9, 10.1])\n",
    "arr.astype(np.int32)    // 转化数据类型"
   ]
  },
  {
   "cell_type": "code",
   "execution_count": 42,
   "metadata": {},
   "outputs": [
    {
     "name": "stdout",
     "output_type": "stream",
     "text": [
      "[[1 2 3]\n",
      " [4 5 6]]\n",
      "[[2 3]\n",
      " [5 6]]\n"
     ]
    }
   ],
   "source": [
    "arr2d = np.array([[1, 2, 3],[4, 5, 6],[7, 8, 9]])\n",
    "print(arr2d[:2])\n",
    "print(arr2d[:2, 1:])"
   ]
  },
  {
   "cell_type": "code",
   "execution_count": 17,
   "metadata": {},
   "outputs": [
    {
     "name": "stdout",
     "output_type": "stream",
     "text": [
      "<class 'numpy.ndarray'>\n",
      "[ True False False  True False False False]\n",
      "[[-0.47386059  0.89285918 -0.64267286  0.20365612]\n",
      " [ 1.01301007  0.22999621 -0.82783969  1.05638355]]\n",
      "[[-0.64267286  0.20365612]\n",
      " [-0.82783969  1.05638355]]\n",
      "[[ 0.65294084 -1.5030267  -0.07462891 -1.21762868]\n",
      " [ 0.7420876  -2.08096105  0.87726777  0.5301906 ]\n",
      " [ 1.09422664  1.06888714  0.18681411 -0.15020759]\n",
      " [ 0.32922983  0.11037125  0.01086593 -0.25856495]\n",
      " [-1.0340133   0.9724471   1.50156237  0.71785802]]\n",
      "[[-0.47386059  0.89285918 -0.64267286  0.20365612]\n",
      " [ 0.7420876  -2.08096105  0.87726777  0.5301906 ]\n",
      " [ 1.01301007  0.22999621 -0.82783969  1.05638355]\n",
      " [ 1.09422664  1.06888714  0.18681411 -0.15020759]]\n",
      "[[ 0.          0.89285918  0.          0.20365612]\n",
      " [ 0.65294084  0.          0.          0.        ]\n",
      " [ 0.7420876   0.          0.87726777  0.5301906 ]\n",
      " [ 1.01301007  0.22999621  0.          1.05638355]\n",
      " [ 1.09422664  1.06888714  0.18681411  0.        ]\n",
      " [ 0.32922983  0.11037125  0.01086593  0.        ]\n",
      " [ 0.          0.9724471   1.50156237  0.71785802]]\n"
     ]
    }
   ],
   "source": [
    "names = np.array(['Bob', 'Joe', 'Will', 'Bob', 'Will', 'Joe', 'Joe'])\n",
    "data = np.random.randn(7, 4)\n",
    "print(type(names =='Bob'))\n",
    "print(names=='Bob')\n",
    "print(data[names=='Bob'])   # boolean索引\n",
    "print(data[names=='Bob', 2:]) # 使用切片\n",
    "print(data[~(names=='Bob')])\n",
    "print(data[(names=='Bob') | (names==('Will'))])  # 有点像集合的操作了\n",
    "data[data<0] = 0   # 把小于0的转化为0 \n",
    "print(data)\n"
   ]
  },
  {
   "cell_type": "code",
   "execution_count": 27,
   "metadata": {},
   "outputs": [
    {
     "name": "stdout",
     "output_type": "stream",
     "text": [
      "[[  0.   0.   0.   0.]\n",
      " [  2.   2.   2.   2.]\n",
      " [  4.   4.   4.   4.]\n",
      " [  6.   6.   6.   6.]\n",
      " [  8.   8.   8.   8.]\n",
      " [ 10.  10.  10.  10.]\n",
      " [ 12.  12.  12.  12.]\n",
      " [ 14.  14.  14.  14.]]\n",
      "[[  8.   8.   8.   8.]\n",
      " [  6.   6.   6.   6.]\n",
      " [  0.   0.   0.   0.]\n",
      " [ 12.  12.  12.  12.]]\n"
     ]
    }
   ],
   "source": [
    "arr = np.empty((8, 4))\n",
    "for i in range(8):\n",
    "    arr[i] = i*2\n",
    "print(arr)\n",
    "\n",
    "print(arr[[4, 3, 0, 6]])"
   ]
  },
  {
   "cell_type": "code",
   "execution_count": 35,
   "metadata": {},
   "outputs": [
    {
     "name": "stdout",
     "output_type": "stream",
     "text": [
      "[[ 0  1  2  3]\n",
      " [ 4  5  6  7]\n",
      " [ 8  9 10 11]\n",
      " [12 13 14 15]\n",
      " [16 17 18 19]\n",
      " [20 21 22 23]\n",
      " [24 25 26 27]\n",
      " [28 29 30 31]]\n",
      "[[ 4  7  5  6]\n",
      " [20 23 21 22]\n",
      " [28 31 29 30]\n",
      " [ 8 11  9 10]]\n"
     ]
    }
   ],
   "source": [
    "arr = np.arange(32).reshape((8,4))\n",
    "print(arr)\n",
    "print(arr[[1,5,7,2]][:, [0,3,1,2]])  # 花式索引"
   ]
  },
  {
   "cell_type": "code",
   "execution_count": 36,
   "metadata": {},
   "outputs": [
    {
     "name": "stdout",
     "output_type": "stream",
     "text": [
      "[[ 0  1  2  3  4]\n",
      " [ 5  6  7  8  9]\n",
      " [10 11 12 13 14]]\n",
      "[[ 0  5 10]\n",
      " [ 1  6 11]\n",
      " [ 2  7 12]\n",
      " [ 3  8 13]\n",
      " [ 4  9 14]]\n"
     ]
    }
   ],
   "source": [
    "arr = np.arange(15).reshape((3, 5))\n",
    "print(arr)\n",
    "print(arr.T) # 数组转置"
   ]
  },
  {
   "cell_type": "code",
   "execution_count": 37,
   "metadata": {},
   "outputs": [
    {
     "name": "stdout",
     "output_type": "stream",
     "text": [
      "[[[ 0  1  2  3]\n",
      "  [ 4  5  6  7]]\n",
      "\n",
      " [[ 8  9 10 11]\n",
      "  [12 13 14 15]]]\n",
      "[[[ 0  1  2  3]\n",
      "  [ 8  9 10 11]]\n",
      "\n",
      " [[ 4  5  6  7]\n",
      "  [12 13 14 15]]]\n"
     ]
    }
   ],
   "source": [
    "arr = np.arange(16).reshape((2, 2, 4))\n",
    "print(arr)\n",
    "print(arr.transpose(1,0,2))   # 三个维度  第一个维度和第二个维度转换  第三个不变 "
   ]
  },
  {
   "cell_type": "code",
   "execution_count": 41,
   "metadata": {},
   "outputs": [
    {
     "name": "stdout",
     "output_type": "stream",
     "text": [
      "[0 1 2 3 4 5 6 7 8 9]\n",
      "[ 0.          1.          1.41421356  1.73205081  2.          2.23606798\n",
      "  2.44948974  2.64575131  2.82842712  3.        ]\n",
      "[  1.00000000e+00   2.71828183e+00   7.38905610e+00   2.00855369e+01\n",
      "   5.45981500e+01   1.48413159e+02   4.03428793e+02   1.09663316e+03\n",
      "   2.98095799e+03   8.10308393e+03]\n",
      "[ 1.35568725  0.29966346 -0.32407672  0.35498595  2.21948574 -0.44811462\n",
      " -0.95940787 -0.16515036]\n",
      "[ 0.51284399  2.13782236 -1.48413854  0.07434958  0.26129571  0.2442621\n",
      "  1.11534092  0.49417886]\n",
      "[ 1.35568725  2.13782236 -0.32407672  0.35498595  2.21948574  0.2442621\n",
      "  1.11534092  0.49417886]\n"
     ]
    }
   ],
   "source": [
    "arr = np.arange(10)\n",
    "print(arr)\n",
    "print(np.sqrt(arr))  #开根号\n",
    "print(np.exp(arr))  # \n",
    "x = np.random.randn(8)\n",
    "y = np.random.randn(8)\n",
    "print(x)\n",
    "print(y)\n",
    "print(np.maximum(x,y))  # 相加  基础函数"
   ]
  },
  {
   "cell_type": "code",
   "execution_count": 42,
   "metadata": {},
   "outputs": [
    {
     "name": "stdout",
     "output_type": "stream",
     "text": [
      "[ 1.35779548 -2.7147775  -9.15650859 -6.06475194  6.73606979 -4.96903744\n",
      " -0.39333436]\n",
      "[ 0.35779548 -0.7147775  -0.15650859 -0.06475194  0.73606979 -0.96903744\n",
      " -0.39333436]\n",
      "[ 1. -2. -9. -6.  6. -4. -0.]\n"
     ]
    }
   ],
   "source": [
    "arr = np.random.randn(7) * 5\n",
    "print(arr)\n",
    "remainder, whole_part = np.modf(arr)\n",
    "print(remainder)    # 小数部分\n",
    "print(whole_part)   # 整数部分"
   ]
  },
  {
   "cell_type": "code",
   "execution_count": 46,
   "metadata": {},
   "outputs": [
    {
     "data": {
      "text/plain": [
       "<matplotlib.text.Text at 0x11d50d9b0>"
      ]
     },
     "execution_count": 46,
     "metadata": {},
     "output_type": "execute_result"
    }
   ],
   "source": [
    "import matplotlib.pyplot as plt\n",
    "import numpy as np\n",
    "points = np.arange(-5, 5, 0.01)\n",
    "xs, ys = np.meshgrid(points, points)\n",
    "z = np.sqrt(xs**2 + ys**2)\n",
    "plt.imshow(z, cmap=plt.cm.gray); plt.colorbar()\n",
    "plt.title(\"Image plot of $\\sqrt{x^2 + y^2}$ for a grid of values\")"
   ]
  },
  {
   "cell_type": "code",
   "execution_count": 47,
   "metadata": {},
   "outputs": [
    {
     "name": "stdout",
     "output_type": "stream",
     "text": [
      "[[ 2  2 -2 -2]\n",
      " [ 2  2 -2 -2]\n",
      " [ 2 -2 -2 -2]\n",
      " [-2  2 -2  2]]\n"
     ]
    }
   ],
   "source": [
    "arr = np.random.randn(4, 4)\n",
    "print(np.where(arr >0, 2 , -2))"
   ]
  },
  {
   "cell_type": "code",
   "execution_count": 51,
   "metadata": {},
   "outputs": [
    {
     "name": "stdout",
     "output_type": "stream",
     "text": [
      "[[ 0.02747105 -1.19737045 -0.8119525  -0.11608399]\n",
      " [ 0.20463159  1.51815074 -0.40580215  0.18993664]\n",
      " [ 1.14444571  0.05009328  1.43429921  1.88920628]\n",
      " [ 0.27467815 -0.15431337 -0.90797697  1.65020171]\n",
      " [ 0.87543597  0.28066328 -0.16554292 -1.4698998 ]]\n",
      "0.215513573402\n",
      "[ 0.50533249  0.0994447  -0.17139507  0.42867217]\n",
      "4.31027146803\n",
      "[-2.09793589  1.50691682  4.51804449  0.86258952 -0.47934347]\n"
     ]
    }
   ],
   "source": [
    "arr = np.random.randn(5, 4)\n",
    "print(arr)\n",
    "print(arr.mean())\n",
    "print(arr.mean(axis=0)) #计算以列为轴的平均值\n",
    "print(arr.sum())\n",
    "print(arr.sum(axis=1)) # 计算以行为轴的总和"
   ]
  },
  {
   "cell_type": "code",
   "execution_count": 55,
   "metadata": {},
   "outputs": [
    {
     "name": "stdout",
     "output_type": "stream",
     "text": [
      "[-1.28621269 -0.41629829 -0.15304974  0.13716287  0.67529054  0.74769769]\n",
      "[[-0.3898847   0.43113217  0.38880627]\n",
      " [ 1.01082893 -0.03590967  1.0005688 ]\n",
      " [-0.60593318 -0.71814208  1.01108996]\n",
      " [-0.36170918 -0.37242442  1.55215115]\n",
      " [-1.35831937 -0.23033311 -0.47208333]]\n",
      "[[-0.3898847   0.38880627  0.43113217]\n",
      " [-0.03590967  1.0005688   1.01082893]\n",
      " [-0.71814208 -0.60593318  1.01108996]\n",
      " [-0.37242442 -0.36170918  1.55215115]\n",
      " [-1.35831937 -0.47208333 -0.23033311]]\n"
     ]
    }
   ],
   "source": [
    "arr = np.random.randn(6)\n",
    "arr.sort()\n",
    "print(arr)\n",
    "arr = np.random.randn(5, 3)\n",
    "print(arr)\n",
    "arr.sort(1)  # 在x轴排序\n",
    "print(arr)"
   ]
  },
  {
   "cell_type": "code",
   "execution_count": 57,
   "metadata": {},
   "outputs": [
    {
     "data": {
      "text/plain": [
       "array(['Bob', 'Joe', 'Will'], \n",
       "      dtype='<U4')"
      ]
     },
     "execution_count": 57,
     "metadata": {},
     "output_type": "execute_result"
    }
   ],
   "source": [
    "names = np.array(['Bob', 'Joe', 'Will', 'Bob', 'Will', 'Joe', 'Joe'])\n",
    "np.unique(names)"
   ]
  },
  {
   "cell_type": "code",
   "execution_count": 58,
   "metadata": {},
   "outputs": [
    {
     "data": {
      "text/plain": [
       "array([[  28.,   64.],\n",
       "       [  67.,  181.]])"
      ]
     },
     "execution_count": 58,
     "metadata": {},
     "output_type": "execute_result"
    }
   ],
   "source": [
    "x = np.array([[1., 2., 3.], [4., 5., 6.]])\n",
    "y = np.array([[6., 23.], [-1, 7], [8, 9]])  \n",
    "x.dot(y)   # 矩阵乘法"
   ]
  },
  {
   "cell_type": "code",
   "execution_count": 61,
   "metadata": {},
   "outputs": [
    {
     "data": {
      "text/plain": [
       "array([[ 0.31373926,  0.22003944,  0.45731635,  0.50553125],\n",
       "       [-1.12016502,  1.3313608 ,  1.07695035, -0.64507671],\n",
       "       [-0.02599413,  0.12312318, -1.10515156,  1.47486236],\n",
       "       [ 0.52581179,  0.03364154, -1.37354648, -0.33065665]])"
      ]
     },
     "execution_count": 61,
     "metadata": {},
     "output_type": "execute_result"
    }
   ],
   "source": [
    "samples = np.random.normal(size=(4, 4))  # 一个标准正态分布的4×4样本\n",
    "samples"
   ]
  },
  {
   "cell_type": "code",
   "execution_count": 62,
   "metadata": {},
   "outputs": [
    {
     "name": "stdout",
     "output_type": "stream",
     "text": [
      "-15\n",
      "26\n",
      "129\n"
     ]
    },
    {
     "data": {
      "text/plain": [
       "3378"
      ]
     },
     "execution_count": 62,
     "metadata": {},
     "output_type": "execute_result"
    }
   ],
   "source": [
    "import random\n",
    "import matplotlib.pyplot as plt\n",
    "position = 0\n",
    "walk = [position]\n",
    "steps = 1000\n",
    "for i in range(steps):\n",
    "    step = 1 if random.randint(0, 1) else -1\n",
    "    position += step\n",
    "    walk.append(position)\n",
    "#plt.plot(walk[:100])\n",
    "\n",
    "\n",
    "nsteps = 1000\n",
    "draws = np.random.randint(0, 2, size=nsteps)\n",
    "steps = np.where(draws > 0, 1, -1)\n",
    "walk = steps.cumsum()\n",
    "plt.plot(walk[:100])\n",
    "\n",
    "print(walk.min())\n",
    "print(walk.max())\n",
    "# 需要多久才能距离初始0点至少10步远（任一方向均可）\n",
    "print((np.abs(walk) >= 10).argmax())\n",
    "\n",
    "\n",
    "nwalks = 5000\n",
    "nsteps = 1000\n",
    "#模拟多个随机漫步过程（比如5000个）\n",
    "draws = np.random.randint(0, 2, size=(nwalks, nsteps)) # 0 or 1\n",
    "steps = np.where(draws > 0, 1, -1)\n",
    "walks = steps.cumsum(1)\n",
    "walks.max()\n",
    "walks.min()\n",
    "# 用any方法来对此进行检查 因为不是5000个过程都到达了30的距离\n",
    "hits30 = (np.abs(walks) >= 30).any(1)  \n",
    "hits30.sum() # Number that hit 30 or -30"
   ]
  },
  {
   "cell_type": "code",
   "execution_count": null,
   "metadata": {
    "collapsed": true
   },
   "outputs": [],
   "source": []
  }
 ],
 "metadata": {
  "kernelspec": {
   "display_name": "Python 3",
   "language": "python",
   "name": "python3"
  },
  "language_info": {
   "codemirror_mode": {
    "name": "ipython",
    "version": 3
   },
   "file_extension": ".py",
   "mimetype": "text/x-python",
   "name": "python",
   "nbconvert_exporter": "python",
   "pygments_lexer": "ipython3",
   "version": "3.6.1"
  }
 },
 "nbformat": 4,
 "nbformat_minor": 2
}
